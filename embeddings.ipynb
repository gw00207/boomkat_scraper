{
 "cells": [
  {
   "cell_type": "code",
   "execution_count": null,
   "metadata": {
    "ExecuteTime": {
     "end_time": "2020-05-12T17:24:17.648040Z",
     "start_time": "2020-05-12T17:24:10.375720Z"
    }
   },
   "outputs": [],
   "source": [
    "from flair.embeddings import WordEmbeddings, DocumentPoolEmbeddings, StackedEmbeddings, BytePairEmbeddings\n",
    "from flair.data import Sentence\n",
    "import torch\n",
    "from collections import Counter\n",
    "\n",
    "import pandas as pd\n",
    "from tqdm.notebook import tqdm\n",
    "tqdm.pandas()\n",
    "\n",
    "import re\n",
    "import numpy as np\n",
    "\n",
    "from nltk.corpus import stopwords\n",
    "import nltk\n",
    "nltk.download('stopwords')\n",
    "from nltk.tokenize import word_tokenize"
   ]
  },
  {
   "cell_type": "code",
   "execution_count": null,
   "metadata": {
    "ExecuteTime": {
     "end_time": "2020-05-12T17:24:29.925649Z",
     "start_time": "2020-05-12T17:24:17.660684Z"
    },
    "code_folding": []
   },
   "outputs": [],
   "source": [
    "word_embedding = WordEmbeddings('en')\n",
    "stacked_embedding = StackedEmbeddings([WordEmbeddings('en'),BytePairEmbeddings('en')])\n",
    "embedding = DocumentPoolEmbeddings([word_embedding])"
   ]
  },
  {
   "cell_type": "code",
   "execution_count": null,
   "metadata": {
    "ExecuteTime": {
     "end_time": "2020-05-02T14:07:06.727342Z",
     "start_time": "2020-05-02T14:06:56.394Z"
    }
   },
   "outputs": [],
   "source": [
    "df['genre'].unique()"
   ]
  },
  {
   "cell_type": "code",
   "execution_count": null,
   "metadata": {
    "ExecuteTime": {
     "end_time": "2020-05-12T17:33:02.641135Z",
     "start_time": "2020-05-12T17:33:02.497313Z"
    }
   },
   "outputs": [],
   "source": [
    "df = pd.read_csv('data/all.csv')\n",
    "jungle = df[df['genre']=='jungle / footwork']"
   ]
  },
  {
   "cell_type": "code",
   "execution_count": null,
   "metadata": {
    "ExecuteTime": {
     "end_time": "2020-05-12T17:45:05.250703Z",
     "start_time": "2020-05-12T17:45:05.232293Z"
    }
   },
   "outputs": [],
   "source": [
    "df = pd.read_csv('data/new/grime.csv')"
   ]
  },
  {
   "cell_type": "code",
   "execution_count": null,
   "metadata": {
    "ExecuteTime": {
     "end_time": "2020-05-12T17:46:22.204888Z",
     "start_time": "2020-05-12T17:46:22.189464Z"
    }
   },
   "outputs": [],
   "source": [
    "embeddings_list = []\n",
    "meta = []\n",
    "for i in df['Term'].tolist():\n",
    "    sentence = Sentence(i)\n",
    "    word_embedding.embed(sentence)\n",
    "    embed = sentence[0].embedding.numpy()\n",
    "    if np.any(embed):\n",
    "        embeddings_list.append(embed)\n",
    "        meta.append(i)"
   ]
  },
  {
   "cell_type": "code",
   "execution_count": null,
   "metadata": {
    "ExecuteTime": {
     "end_time": "2020-05-12T17:41:56.305660Z",
     "start_time": "2020-05-12T17:41:56.241318Z"
    }
   },
   "outputs": [],
   "source": [
    "pd.DataFrame(embeddings_list).to_csv('grime_word_tensors.tsv', sep='\\t', index=False, header=False)"
   ]
  },
  {
   "cell_type": "code",
   "execution_count": null,
   "metadata": {
    "ExecuteTime": {
     "end_time": "2020-05-12T17:41:59.192153Z",
     "start_time": "2020-05-12T17:41:59.183815Z"
    }
   },
   "outputs": [],
   "source": [
    "pd.Series(meta, name='word').to_csv('grime_word_meta.tsv', sep='\\t', index=False, header=False)"
   ]
  },
  {
   "cell_type": "markdown",
   "metadata": {},
   "source": [
    "## words"
   ]
  },
  {
   "cell_type": "code",
   "execution_count": null,
   "metadata": {
    "ExecuteTime": {
     "end_time": "2020-05-12T17:33:04.386198Z",
     "start_time": "2020-05-12T17:33:04.374716Z"
    }
   },
   "outputs": [],
   "source": [
    "all_word = jungle['description'].str.replace('\\xa0|/', ' ', regex=True).str.cat(sep=' ')"
   ]
  },
  {
   "cell_type": "code",
   "execution_count": null,
   "metadata": {
    "ExecuteTime": {
     "end_time": "2020-05-12T17:33:04.942372Z",
     "start_time": "2020-05-12T17:33:04.923311Z"
    }
   },
   "outputs": [],
   "source": [
    "clean = re.sub(r'\\.|,|\\n|‘|’|!|\\]|\\[|\\)|\\(|`|;|”|', '', all_word)\n",
    "shortlist = [x[0] for x in Counter(clean.split(' ')).most_common(20000)]"
   ]
  },
  {
   "cell_type": "code",
   "execution_count": null,
   "metadata": {
    "ExecuteTime": {
     "end_time": "2020-05-12T17:33:17.522723Z",
     "start_time": "2020-05-12T17:33:05.262884Z"
    }
   },
   "outputs": [],
   "source": [
    "tokens_without_sw = [word.lower() for word in shortlist if not word.lower() in stopwords.words() and word!='']"
   ]
  },
  {
   "cell_type": "code",
   "execution_count": null,
   "metadata": {
    "ExecuteTime": {
     "end_time": "2020-05-12T17:33:17.545829Z",
     "start_time": "2020-05-12T17:33:17.525842Z"
    }
   },
   "outputs": [],
   "source": [
    "tokens_without_sw"
   ]
  },
  {
   "cell_type": "code",
   "execution_count": null,
   "metadata": {
    "ExecuteTime": {
     "end_time": "2020-05-02T14:26:09.928352Z",
     "start_time": "2020-05-02T14:26:09.583673Z"
    }
   },
   "outputs": [],
   "source": [
    "embeddings_list = []\n",
    "meta = []\n",
    "for i in tokens_without_sw:\n",
    "    sentence = Sentence(i)\n",
    "    word_embedding.embed(sentence)\n",
    "    embed = sentence[0].embedding.numpy()\n",
    "    if np.any(embed):\n",
    "        embeddings_list.append(embed)\n",
    "        meta.append(i)"
   ]
  },
  {
   "cell_type": "code",
   "execution_count": null,
   "metadata": {
    "ExecuteTime": {
     "end_time": "2020-05-02T14:26:09.942316Z",
     "start_time": "2020-05-02T14:26:09.934143Z"
    }
   },
   "outputs": [],
   "source": [
    "len(meta)"
   ]
  },
  {
   "cell_type": "code",
   "execution_count": null,
   "metadata": {
    "ExecuteTime": {
     "end_time": "2020-05-02T14:26:09.954188Z",
     "start_time": "2020-05-02T14:26:09.946117Z"
    }
   },
   "outputs": [],
   "source": [
    "len(embeddings_list)"
   ]
  },
  {
   "cell_type": "code",
   "execution_count": null,
   "metadata": {
    "ExecuteTime": {
     "end_time": "2020-05-02T14:26:12.308519Z",
     "start_time": "2020-05-02T14:26:09.960387Z"
    }
   },
   "outputs": [],
   "source": [
    "pd.DataFrame(embeddings_list)[:-1].to_csv('word_tensors.tsv', sep='\\t', index=False, header=False)"
   ]
  },
  {
   "cell_type": "code",
   "execution_count": null,
   "metadata": {
    "ExecuteTime": {
     "end_time": "2020-05-02T14:26:12.339057Z",
     "start_time": "2020-05-02T14:26:12.321754Z"
    }
   },
   "outputs": [],
   "source": [
    "pd.Series(meta, name='word')[:-1].to_csv('word_meta.tsv', sep='\\t', index=False, header=False)"
   ]
  },
  {
   "cell_type": "markdown",
   "metadata": {},
   "source": [
    "## descriptions"
   ]
  },
  {
   "cell_type": "code",
   "execution_count": null,
   "metadata": {
    "ExecuteTime": {
     "end_time": "2020-05-02T12:26:18.344672Z",
     "start_time": "2020-05-02T12:26:18.330705Z"
    }
   },
   "outputs": [],
   "source": [
    "df.dropna(subset=['description'], inplace=True)"
   ]
  },
  {
   "cell_type": "code",
   "execution_count": null,
   "metadata": {
    "ExecuteTime": {
     "end_time": "2020-05-02T12:32:12.094671Z",
     "start_time": "2020-05-02T12:32:12.083041Z"
    }
   },
   "outputs": [],
   "source": [
    "def get_tensors(x):\n",
    "    sentence = Sentence(x['description'])\n",
    "    embedding.embed(sentence)\n",
    "    return sentence.get_embedding()"
   ]
  },
  {
   "cell_type": "code",
   "execution_count": null,
   "metadata": {
    "ExecuteTime": {
     "end_time": "2020-05-02T12:32:44.274615Z",
     "start_time": "2020-05-02T12:32:12.805318Z"
    }
   },
   "outputs": [],
   "source": [
    "df['embedding'] = df.progress_apply(get_tensors, axis=1)"
   ]
  },
  {
   "cell_type": "code",
   "execution_count": null,
   "metadata": {
    "ExecuteTime": {
     "end_time": "2020-05-02T12:34:58.534938Z",
     "start_time": "2020-05-02T12:34:58.498925Z"
    }
   },
   "outputs": [],
   "source": [
    "df['np_embedding'] = df['embedding'].apply(lambda x: x.detach().numpy())"
   ]
  },
  {
   "cell_type": "code",
   "execution_count": null,
   "metadata": {
    "ExecuteTime": {
     "end_time": "2020-05-02T12:44:15.131954Z",
     "start_time": "2020-05-02T12:44:15.124137Z"
    }
   },
   "outputs": [],
   "source": [
    "df['description'] = df['description'].str.replace('\\n', ' ')"
   ]
  },
  {
   "cell_type": "code",
   "execution_count": null,
   "metadata": {
    "ExecuteTime": {
     "end_time": "2020-05-02T12:44:19.213045Z",
     "start_time": "2020-05-02T12:44:16.559149Z"
    }
   },
   "outputs": [],
   "source": [
    "df[['artist','album','catalogue_no','genre','description']].to_csv('meta.tsv', sep='\\t', index=False)\n",
    "df['np_embedding'].apply(pd.Series).to_csv('tensors.tsv', sep='\\t', index=False, header=False)"
   ]
  },
  {
   "cell_type": "code",
   "execution_count": null,
   "metadata": {},
   "outputs": [],
   "source": []
  }
 ],
 "metadata": {
  "kernelspec": {
   "display_name": "Python 3",
   "language": "python",
   "name": "python3"
  },
  "language_info": {
   "codemirror_mode": {
    "name": "ipython",
    "version": 3
   },
   "file_extension": ".py",
   "mimetype": "text/x-python",
   "name": "python",
   "nbconvert_exporter": "python",
   "pygments_lexer": "ipython3",
   "version": "3.7.3"
  }
 },
 "nbformat": 4,
 "nbformat_minor": 4
}
