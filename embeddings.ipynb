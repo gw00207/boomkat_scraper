{
 "cells": [
  {
   "cell_type": "code",
   "execution_count": 131,
   "metadata": {
    "ExecuteTime": {
     "end_time": "2020-05-02T14:07:13.545242Z",
     "start_time": "2020-05-02T14:07:13.522935Z"
    }
   },
   "outputs": [
    {
     "name": "stderr",
     "output_type": "stream",
     "text": [
      "/Users/gw00207/miniconda3/envs/bk_scraper/lib/python3.7/site-packages/tqdm/std.py:666: FutureWarning: The Panel class is removed from pandas. Accessing it from the top-level namespace will also be removed in the next version\n",
      "  from pandas import Panel\n",
      "[nltk_data] Downloading package stopwords to\n",
      "[nltk_data]     /Users/gw00207/nltk_data...\n",
      "[nltk_data]   Package stopwords is already up-to-date!\n"
     ]
    }
   ],
   "source": [
    "from flair.embeddings import WordEmbeddings, DocumentPoolEmbeddings, StackedEmbeddings, BytePairEmbeddings\n",
    "from flair.data import Sentence\n",
    "import torch\n",
    "from collections import Counter\n",
    "\n",
    "import pandas as pd\n",
    "from tqdm.notebook import tqdm\n",
    "tqdm.pandas()\n",
    "\n",
    "import re\n",
    "import numpy as np\n",
    "\n",
    "from nltk.corpus import stopwords\n",
    "import nltk\n",
    "nltk.download('stopwords')\n",
    "from nltk.tokenize import word_tokenize"
   ]
  },
  {
   "cell_type": "code",
   "execution_count": 132,
   "metadata": {
    "ExecuteTime": {
     "end_time": "2020-05-02T14:07:33.782115Z",
     "start_time": "2020-05-02T14:07:14.402809Z"
    },
    "code_folding": []
   },
   "outputs": [
    {
     "name": "stdout",
     "output_type": "stream",
     "text": [
      "downloading https://nlp.h-its.org/bpemb/en/en.wiki.bpe.vs100000.model\n"
     ]
    },
    {
     "name": "stderr",
     "output_type": "stream",
     "text": [
      "100%|██████████| 1987533/1987533 [00:00<00:00, 3763012.21B/s]\n"
     ]
    },
    {
     "name": "stdout",
     "output_type": "stream",
     "text": [
      "downloading https://nlp.h-its.org/bpemb/en/en.wiki.bpe.vs100000.d50.w2v.bin.tar.gz\n"
     ]
    },
    {
     "name": "stderr",
     "output_type": "stream",
     "text": [
      "100%|██████████| 19357958/19357958 [00:04<00:00, 4351344.77B/s]\n"
     ]
    }
   ],
   "source": [
    "word_embedding = WordEmbeddings('en')\n",
    "stacked_embedding = StackedEmbeddings([WordEmbeddings('en'),BytePairEmbeddings('en')])\n",
    "embedding = DocumentPoolEmbeddings([word_embedding])"
   ]
  },
  {
   "cell_type": "code",
   "execution_count": null,
   "metadata": {
    "ExecuteTime": {
     "end_time": "2020-05-02T14:07:06.727342Z",
     "start_time": "2020-05-02T14:06:56.394Z"
    }
   },
   "outputs": [],
   "source": [
    "df['genre'].unique()"
   ]
  },
  {
   "cell_type": "code",
   "execution_count": 96,
   "metadata": {
    "ExecuteTime": {
     "end_time": "2020-05-02T13:55:23.653968Z",
     "start_time": "2020-05-02T13:55:23.533185Z"
    }
   },
   "outputs": [],
   "source": [
    "df = pd.read_csv('data/all.csv')\n",
    "jungle = df[df['genre']=='jungle / footwork']"
   ]
  },
  {
   "cell_type": "markdown",
   "metadata": {},
   "source": [
    "## words"
   ]
  },
  {
   "cell_type": "code",
   "execution_count": 202,
   "metadata": {
    "ExecuteTime": {
     "end_time": "2020-05-02T14:25:09.499899Z",
     "start_time": "2020-05-02T14:25:09.491250Z"
    }
   },
   "outputs": [],
   "source": [
    "all_word = jungle['description'].str.replace('\\xa0|/', ' ', regex=True).str.cat(sep=' ')"
   ]
  },
  {
   "cell_type": "code",
   "execution_count": 206,
   "metadata": {
    "ExecuteTime": {
     "end_time": "2020-05-02T14:25:35.477398Z",
     "start_time": "2020-05-02T14:25:35.455567Z"
    }
   },
   "outputs": [],
   "source": [
    "clean = re.sub(r'\\.|,|\\n|‘|’|!|\\]|\\[|\\)|\\(|`|;|”|', '', all_word)\n",
    "shortlist = [x[0] for x in Counter(clean.split(' ')).most_common(20000)]"
   ]
  },
  {
   "cell_type": "code",
   "execution_count": 208,
   "metadata": {
    "ExecuteTime": {
     "end_time": "2020-05-02T14:26:09.580751Z",
     "start_time": "2020-05-02T14:25:55.135490Z"
    }
   },
   "outputs": [],
   "source": [
    "tokens_without_sw = [word.lower() for word in shortlist if not word.lower() in stopwords.words() and word!='']"
   ]
  },
  {
   "cell_type": "code",
   "execution_count": 209,
   "metadata": {
    "ExecuteTime": {
     "end_time": "2020-05-02T14:26:09.928352Z",
     "start_time": "2020-05-02T14:26:09.583673Z"
    }
   },
   "outputs": [],
   "source": [
    "embeddings_list = []\n",
    "meta = []\n",
    "for i in tokens_without_sw:\n",
    "    sentence = Sentence(i)\n",
    "    word_embedding.embed(sentence)\n",
    "    embed = sentence[0].embedding.numpy()\n",
    "    if np.any(embed):\n",
    "        embeddings_list.append(embed)\n",
    "        meta.append(i)"
   ]
  },
  {
   "cell_type": "code",
   "execution_count": 210,
   "metadata": {
    "ExecuteTime": {
     "end_time": "2020-05-02T14:26:09.942316Z",
     "start_time": "2020-05-02T14:26:09.934143Z"
    }
   },
   "outputs": [
    {
     "data": {
      "text/plain": [
       "2600"
      ]
     },
     "execution_count": 210,
     "metadata": {},
     "output_type": "execute_result"
    }
   ],
   "source": [
    "len(meta)"
   ]
  },
  {
   "cell_type": "code",
   "execution_count": 211,
   "metadata": {
    "ExecuteTime": {
     "end_time": "2020-05-02T14:26:09.954188Z",
     "start_time": "2020-05-02T14:26:09.946117Z"
    }
   },
   "outputs": [
    {
     "data": {
      "text/plain": [
       "2600"
      ]
     },
     "execution_count": 211,
     "metadata": {},
     "output_type": "execute_result"
    }
   ],
   "source": [
    "len(embeddings_list)"
   ]
  },
  {
   "cell_type": "code",
   "execution_count": 212,
   "metadata": {
    "ExecuteTime": {
     "end_time": "2020-05-02T14:26:12.308519Z",
     "start_time": "2020-05-02T14:26:09.960387Z"
    }
   },
   "outputs": [],
   "source": [
    "pd.DataFrame(embeddings_list)[:-1].to_csv('word_tensors.tsv', sep='\\t', index=False, header=False)"
   ]
  },
  {
   "cell_type": "code",
   "execution_count": 213,
   "metadata": {
    "ExecuteTime": {
     "end_time": "2020-05-02T14:26:12.339057Z",
     "start_time": "2020-05-02T14:26:12.321754Z"
    }
   },
   "outputs": [],
   "source": [
    "pd.Series(meta, name='word')[:-1].to_csv('word_meta.tsv', sep='\\t', index=False, header=False)"
   ]
  },
  {
   "cell_type": "markdown",
   "metadata": {},
   "source": [
    "## descriptions"
   ]
  },
  {
   "cell_type": "code",
   "execution_count": 61,
   "metadata": {
    "ExecuteTime": {
     "end_time": "2020-05-02T12:26:18.344672Z",
     "start_time": "2020-05-02T12:26:18.330705Z"
    }
   },
   "outputs": [],
   "source": [
    "df.dropna(subset=['description'], inplace=True)"
   ]
  },
  {
   "cell_type": "code",
   "execution_count": 71,
   "metadata": {
    "ExecuteTime": {
     "end_time": "2020-05-02T12:32:12.094671Z",
     "start_time": "2020-05-02T12:32:12.083041Z"
    }
   },
   "outputs": [],
   "source": [
    "def get_tensors(x):\n",
    "    sentence = Sentence(x['description'])\n",
    "    embedding.embed(sentence)\n",
    "    return sentence.get_embedding()"
   ]
  },
  {
   "cell_type": "code",
   "execution_count": 72,
   "metadata": {
    "ExecuteTime": {
     "end_time": "2020-05-02T12:32:44.274615Z",
     "start_time": "2020-05-02T12:32:12.805318Z"
    }
   },
   "outputs": [
    {
     "data": {
      "application/vnd.jupyter.widget-view+json": {
       "model_id": "8c7f70365fc044758355740d89e8ab34",
       "version_major": 2,
       "version_minor": 0
      },
      "text/plain": [
       "HBox(children=(FloatProgress(value=0.0, max=4916.0), HTML(value='')))"
      ]
     },
     "metadata": {},
     "output_type": "display_data"
    },
    {
     "name": "stdout",
     "output_type": "stream",
     "text": [
      "\n"
     ]
    }
   ],
   "source": [
    "df['embedding'] = df.progress_apply(get_tensors, axis=1)"
   ]
  },
  {
   "cell_type": "code",
   "execution_count": 81,
   "metadata": {
    "ExecuteTime": {
     "end_time": "2020-05-02T12:34:58.534938Z",
     "start_time": "2020-05-02T12:34:58.498925Z"
    }
   },
   "outputs": [],
   "source": [
    "df['np_embedding'] = df['embedding'].apply(lambda x: x.detach().numpy())"
   ]
  },
  {
   "cell_type": "code",
   "execution_count": 113,
   "metadata": {
    "ExecuteTime": {
     "end_time": "2020-05-02T12:44:15.131954Z",
     "start_time": "2020-05-02T12:44:15.124137Z"
    }
   },
   "outputs": [],
   "source": [
    "df['description'] = df['description'].str.replace('\\n', ' ')"
   ]
  },
  {
   "cell_type": "code",
   "execution_count": 114,
   "metadata": {
    "ExecuteTime": {
     "end_time": "2020-05-02T12:44:19.213045Z",
     "start_time": "2020-05-02T12:44:16.559149Z"
    }
   },
   "outputs": [],
   "source": [
    "df[['artist','album','catalogue_no','genre','description']].to_csv('meta.tsv', sep='\\t', index=False)\n",
    "df['np_embedding'].apply(pd.Series).to_csv('tensors.tsv', sep='\\t', index=False, header=False)"
   ]
  },
  {
   "cell_type": "code",
   "execution_count": null,
   "metadata": {},
   "outputs": [],
   "source": []
  }
 ],
 "metadata": {
  "kernelspec": {
   "display_name": "Python 3",
   "language": "python",
   "name": "python3"
  },
  "language_info": {
   "codemirror_mode": {
    "name": "ipython",
    "version": 3
   },
   "file_extension": ".py",
   "mimetype": "text/x-python",
   "name": "python",
   "nbconvert_exporter": "python",
   "pygments_lexer": "ipython3",
   "version": "3.7.3"
  }
 },
 "nbformat": 4,
 "nbformat_minor": 4
}
